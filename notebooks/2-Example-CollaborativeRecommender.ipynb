{
 "cells": [
  {
   "cell_type": "code",
   "execution_count": 1,
   "metadata": {},
   "outputs": [],
   "source": [
    "import sys\n",
    "\n",
    "sys.path.append('../')"
   ]
  },
  {
   "cell_type": "code",
   "execution_count": 2,
   "metadata": {},
   "outputs": [],
   "source": [
    "from ml_metrics import apk\n",
    "import numpy as np"
   ]
  },
  {
   "cell_type": "code",
   "execution_count": 3,
   "metadata": {},
   "outputs": [],
   "source": [
    "from iftorch.dataset import UserItemSet\n",
    "from iftorch.algorithms import CollaborativeRecommender"
   ]
  },
  {
   "cell_type": "markdown",
   "metadata": {},
   "source": [
    "## Load Train/Test UserItemSet"
   ]
  },
  {
   "cell_type": "code",
   "execution_count": 4,
   "metadata": {},
   "outputs": [],
   "source": [
    "train_set = UserItemSet.load_cls_from_file('trainset', '../data')\n",
    "test_set = UserItemSet.load_cls_from_file('testset', '../data')"
   ]
  },
  {
   "cell_type": "markdown",
   "metadata": {},
   "source": [
    "## Collaborative filtering"
   ]
  },
  {
   "cell_type": "code",
   "execution_count": 5,
   "metadata": {},
   "outputs": [],
   "source": [
    "user_collaborative_filtering = CollaborativeRecommender('user-user').fit(train_set)"
   ]
  },
  {
   "cell_type": "code",
   "execution_count": 6,
   "metadata": {},
   "outputs": [],
   "source": [
    "# save functionality\n",
    "user_collaborative_filtering.save_to_file('user-user_collaborative', '../data')"
   ]
  },
  {
   "cell_type": "code",
   "execution_count": 7,
   "metadata": {},
   "outputs": [],
   "source": [
    "# load functionality\n",
    "user_collaborative_filtering = (\n",
    "    CollaborativeRecommender\n",
    "    .load_cls_from_file('user-user_collaborative', '../data')\n",
    ")"
   ]
  },
  {
   "cell_type": "code",
   "execution_count": 8,
   "metadata": {},
   "outputs": [
    {
     "name": "stdout",
     "output_type": "stream",
     "text": [
      "CollaborativeRecommender(collaborative_method='user-user')\n"
     ]
    }
   ],
   "source": [
    "print(user_collaborative_filtering)"
   ]
  },
  {
   "cell_type": "code",
   "execution_count": 9,
   "metadata": {},
   "outputs": [],
   "source": [
    "user2recommended_items = user_collaborative_filtering.predict(test_set, \n",
    "                                                              train_set, \n",
    "                                                              remove_users_not_in_train=True,\n",
    "                                                              max_score_to_filter=0.0)"
   ]
  },
  {
   "cell_type": "code",
   "execution_count": 10,
   "metadata": {},
   "outputs": [],
   "source": [
    "mapk_scores = []\n",
    "for user, recommended_items in user2recommended_items.items():\n",
    "    mapk_scores.append(apk(test_set.user2items_inner[user],\n",
    "                           recommended_items,\n",
    "                           k=100))"
   ]
  },
  {
   "cell_type": "code",
   "execution_count": 11,
   "metadata": {},
   "outputs": [
    {
     "data": {
      "text/plain": [
       "0.00014781966001478197"
      ]
     },
     "execution_count": 11,
     "metadata": {},
     "output_type": "execute_result"
    }
   ],
   "source": [
    "np.mean(mapk_scores)"
   ]
  }
 ],
 "metadata": {
  "kernelspec": {
   "display_name": "ifm-pytorch",
   "language": "python",
   "name": "ifm-pytorch"
  },
  "language_info": {
   "codemirror_mode": {
    "name": "ipython",
    "version": 3
   },
   "file_extension": ".py",
   "mimetype": "text/x-python",
   "name": "python",
   "nbconvert_exporter": "python",
   "pygments_lexer": "ipython3",
   "version": "3.6.7"
  }
 },
 "nbformat": 4,
 "nbformat_minor": 2
}
