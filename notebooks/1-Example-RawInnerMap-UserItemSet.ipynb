{
 "cells": [
  {
   "cell_type": "code",
   "execution_count": 1,
   "metadata": {},
   "outputs": [],
   "source": [
    "import sys\n",
    "\n",
    "sys.path.append('../')"
   ]
  },
  {
   "cell_type": "code",
   "execution_count": 2,
   "metadata": {},
   "outputs": [],
   "source": [
    "import pandas as pd"
   ]
  },
  {
   "cell_type": "code",
   "execution_count": 3,
   "metadata": {},
   "outputs": [],
   "source": [
    "from iftorch.mapping import RawInnerMap\n",
    "from iftorch.dataset import UserItemSet\n",
    "from iftorch.base import BaseFeature, BaseRecommender\n",
    "from iftorch.save_utils import (\n",
    "    get_path, create_directory,\n",
    "    save_mapping, load_mapping,\n",
    "    save_scipy_sparse_csr, load_scipy_sparse_csr\n",
    ")"
   ]
  },
  {
   "cell_type": "markdown",
   "metadata": {},
   "source": [
    "## Import data"
   ]
  },
  {
   "cell_type": "code",
   "execution_count": 4,
   "metadata": {},
   "outputs": [],
   "source": [
    "data = pd.read_csv('../data/test_data.csv')"
   ]
  },
  {
   "cell_type": "markdown",
   "metadata": {},
   "source": [
    "## Train Period"
   ]
  },
  {
   "cell_type": "code",
   "execution_count": 5,
   "metadata": {},
   "outputs": [],
   "source": [
    "train_data = data[data['is_train']]"
   ]
  },
  {
   "cell_type": "markdown",
   "metadata": {},
   "source": [
    "## Test Period"
   ]
  },
  {
   "cell_type": "code",
   "execution_count": 6,
   "metadata": {},
   "outputs": [],
   "source": [
    "test_data = data[~data['is_train']]"
   ]
  },
  {
   "cell_type": "markdown",
   "metadata": {},
   "source": [
    "## Raw train/test user/item ids"
   ]
  },
  {
   "cell_type": "code",
   "execution_count": 7,
   "metadata": {},
   "outputs": [],
   "source": [
    "train_users_raw = set(train_data['raw_user_id'])\n",
    "train_items_raw = set(train_data['raw_item_id'])"
   ]
  },
  {
   "cell_type": "code",
   "execution_count": 8,
   "metadata": {},
   "outputs": [],
   "source": [
    "test_users_raw = set(test_data['raw_user_id'])\n",
    "test_items_raw = set(test_data['raw_item_id'])"
   ]
  },
  {
   "cell_type": "code",
   "execution_count": 9,
   "metadata": {},
   "outputs": [],
   "source": [
    "# Sort by user/item ids in train period followed by test period\n",
    "\n",
    "users_raw = sorted(train_users_raw) + sorted(test_users_raw - train_users_raw)\n",
    "items_raw = sorted(train_items_raw) + sorted(test_items_raw - train_items_raw)"
   ]
  },
  {
   "cell_type": "markdown",
   "metadata": {},
   "source": [
    "# RawInnerMap"
   ]
  },
  {
   "cell_type": "code",
   "execution_count": 10,
   "metadata": {},
   "outputs": [],
   "source": [
    "raw2inner_user = {user_raw: user_inner for user_inner, user_raw in enumerate(users_raw)}\n",
    "raw2inner_item = {item_raw: item_inner for item_inner, item_raw in enumerate(items_raw)}"
   ]
  },
  {
   "cell_type": "code",
   "execution_count": 11,
   "metadata": {},
   "outputs": [],
   "source": [
    "raw_inner_map = RawInnerMap(raw2inner_user=raw2inner_user,\n",
    "                            raw2inner_item=raw2inner_item)"
   ]
  },
  {
   "cell_type": "markdown",
   "metadata": {},
   "source": [
    "# Save RawInnerMap"
   ]
  },
  {
   "cell_type": "code",
   "execution_count": 12,
   "metadata": {},
   "outputs": [],
   "source": [
    "raw_inner_map.save_to_file('raw_inner_map', '../data/')"
   ]
  },
  {
   "cell_type": "markdown",
   "metadata": {},
   "source": [
    "## UserItemSet"
   ]
  },
  {
   "cell_type": "code",
   "execution_count": 13,
   "metadata": {},
   "outputs": [],
   "source": [
    "train_set = UserItemSet.load_cls_from_raw(\n",
    "    users_raw=train_data['raw_user_id'].values,\n",
    "    items_raw=train_data['raw_item_id'].values,\n",
    "    raw_inner_map=raw_inner_map\n",
    ")"
   ]
  },
  {
   "cell_type": "code",
   "execution_count": 14,
   "metadata": {},
   "outputs": [],
   "source": [
    "test_set = UserItemSet.load_cls_from_raw(\n",
    "    users_raw=test_data['raw_user_id'].values,\n",
    "    items_raw=test_data['raw_item_id'].values,\n",
    "    raw_inner_map=raw_inner_map\n",
    ")"
   ]
  },
  {
   "cell_type": "markdown",
   "metadata": {},
   "source": [
    "# Save UserItemSet"
   ]
  },
  {
   "cell_type": "code",
   "execution_count": 15,
   "metadata": {},
   "outputs": [],
   "source": [
    "train_set.save_to_file('trainset', '../data/')\n",
    "test_set.save_to_file('testset', '../data/')"
   ]
  }
 ],
 "metadata": {
  "kernelspec": {
   "display_name": "ifm-pytorch",
   "language": "python",
   "name": "ifm-pytorch"
  },
  "language_info": {
   "codemirror_mode": {
    "name": "ipython",
    "version": 3
   },
   "file_extension": ".py",
   "mimetype": "text/x-python",
   "name": "python",
   "nbconvert_exporter": "python",
   "pygments_lexer": "ipython3",
   "version": "3.6.7"
  }
 },
 "nbformat": 4,
 "nbformat_minor": 2
}
